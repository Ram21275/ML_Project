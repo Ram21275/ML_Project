{
 "cells": [
  {
   "cell_type": "code",
   "execution_count": 1,
   "metadata": {},
   "outputs": [],
   "source": [
    "import numpy as np\n",
    "from sklearn import svm\n",
    "from sklearn.preprocessing import StandardScaler\n",
    "from sklearn.model_selection import train_test_split, GridSearchCV\n",
    "from sklearn.metrics import roc_curve, accuracy_score\n"
   ]
  },
  {
   "cell_type": "code",
   "execution_count": 2,
   "metadata": {},
   "outputs": [],
   "source": [
    "def pad_features(arr, target_cols):\n",
    "    \"\"\"Pads the feature array with zeros to match the target number of columns.\"\"\"\n",
    "    if arr.shape[1] < target_cols:\n",
    "        pad_width = target_cols - arr.shape[1]\n",
    "        arr = np.pad(arr, ((0, 0), (0, pad_width)), mode='constant', constant_values=0)\n",
    "    return arr\n",
    "\n",
    "def normalize_features(X):\n",
    "    scaler = StandardScaler()\n",
    "    return scaler.fit_transform(X), scaler\n",
    "\n",
    "def train_svm_with_grid_search(X_train, y_train):\n",
    "    param_grid = {\n",
    "        'C': [30],\n",
    "        'gamma': [7e-2, 7e-3, 7e-4, 'scale', 'auto'],\n",
    "        'kernel': ['rbf'],\n",
    "    }\n",
    "    grid_search = GridSearchCV(svm.SVC(probability=True), param_grid, cv=2, n_jobs=-1, verbose=3)\n",
    "    grid_search.fit(X_train, y_train)\n",
    "    return grid_search.best_estimator_\n",
    "\n",
    "def compute_eer(y_true, y_scores):\n",
    "    fpr, tpr, thresholds = roc_curve(y_true, y_scores)\n",
    "    fnr = 1 - tpr\n",
    "    eer_threshold = thresholds[np.nanargmin(np.abs(fnr - fpr))]\n",
    "    eer = fpr[np.nanargmin(np.abs(fnr - fpr))]\n",
    "    return eer, eer_threshold\n"
   ]
  },
  {
   "cell_type": "code",
   "execution_count": 3,
   "metadata": {},
   "outputs": [
    {
     "name": "stdout",
     "output_type": "stream",
     "text": [
      "Fitting 2 folds for each of 5 candidates, totalling 10 fits\n"
     ]
    },
    {
     "name": "stderr",
     "output_type": "stream",
     "text": [
      "C:\\Users\\DELL\\AppData\\Local\\Packages\\PythonSoftwareFoundation.Python.3.11_qbz5n2kfra8p0\\LocalCache\\local-packages\\Python311\\site-packages\\numpy\\ma\\core.py:2846: RuntimeWarning: invalid value encountered in cast\n",
      "  _data = np.array(data, dtype=dtype, copy=copy,\n"
     ]
    },
    {
     "name": "stdout",
     "output_type": "stream",
     "text": [
      "Data without filtration:\n",
      "EER: 38.46% at threshold: 0.5578290988907009\n",
      "Accuracy at EER threshold: 61.54%\n"
     ]
    }
   ],
   "source": [
    "#Without filteration\n",
    "\n",
    "ram_train_data = np.load('./Without_Filteration/ram_train.npy')\n",
    "ram_test_data = np.load('./Without_Filteration/ram_test.npy')\n",
    "imposter_train_data = np.load('./Without_Filteration/train_data.npy')\n",
    "imposter_test_data = np.load('./Without_Filteration/test_data.npy')\n",
    "\n",
    "# Align feature dimensions\n",
    "max_feature_size = max(\n",
    "    ram_train_data.shape[1], imposter_train_data.shape[1], \n",
    "    ram_test_data.shape[1], imposter_test_data.shape[1]\n",
    ")\n",
    "\n",
    "ram_train_data = pad_features(ram_train_data, max_feature_size)\n",
    "imposter_train_data = pad_features(imposter_train_data, max_feature_size)\n",
    "ram_test_data = pad_features(ram_test_data, max_feature_size)\n",
    "imposter_test_data = pad_features(imposter_test_data, max_feature_size)\n",
    "\n",
    "# Prepare training data\n",
    "X_train = np.vstack([ram_train_data, imposter_train_data])\n",
    "y_train = [1] * len(ram_train_data) + [0] * len(imposter_train_data)\n",
    "\n",
    "# Prepare test data\n",
    "X_test = np.vstack([ram_test_data, imposter_test_data])\n",
    "y_test = [1] * len(ram_test_data) + [0] * len(imposter_test_data)\n",
    "\n",
    "# Normalize features\n",
    "X_train_scaled, scaler = normalize_features(X_train)\n",
    "X_test_scaled = scaler.transform(X_test)\n",
    "\n",
    "# Train SVM\n",
    "clf = train_svm_with_grid_search(X_train_scaled, y_train)\n",
    "\n",
    "# Get decision scores\n",
    "y_scores = clf.predict_proba(X_test_scaled)[:, 1]\n",
    "\n",
    "print(\"Data without filtration:\")\n",
    "# Compute EER\n",
    "eer, eer_threshold = compute_eer(y_test, y_scores)\n",
    "print(f\"EER: {eer * 100:.2f}% at threshold: {eer_threshold}\")\n",
    "\n",
    "# Evaluate accuracy\n",
    "y_pred = (y_scores >= eer_threshold).astype(int)\n",
    "accuracy = accuracy_score(y_test, y_pred)\n",
    "print(f\"Accuracy at EER threshold: {accuracy * 100:.2f}%\")"
   ]
  },
  {
   "cell_type": "code",
   "execution_count": 4,
   "metadata": {},
   "outputs": [
    {
     "name": "stdout",
     "output_type": "stream",
     "text": [
      "Fitting 2 folds for each of 5 candidates, totalling 10 fits\n",
      "Data With Wiener filteration:\n",
      "EER: 38.46% at threshold: 0.8776670121024768\n",
      "Accuracy at EER threshold: 61.54%\n"
     ]
    }
   ],
   "source": [
    "#With Wiener filteration\n",
    "\n",
    "ram_train_data = np.load('./With_Wiener_Filteration/ram_train.npy')\n",
    "ram_test_data = np.load('./With_Wiener_Filteration/ram_test.npy')\n",
    "imposter_train_data = np.load('./With_Wiener_Filteration/train_data.npy')\n",
    "imposter_test_data = np.load('./With_Wiener_Filteration/test_data.npy')\n",
    "\n",
    "# Align feature dimensions\n",
    "max_feature_size = max(\n",
    "    ram_train_data.shape[1], imposter_train_data.shape[1], \n",
    "    ram_test_data.shape[1], imposter_test_data.shape[1]\n",
    ")\n",
    "\n",
    "ram_train_data = pad_features(ram_train_data, max_feature_size)\n",
    "imposter_train_data = pad_features(imposter_train_data, max_feature_size)\n",
    "ram_test_data = pad_features(ram_test_data, max_feature_size)\n",
    "imposter_test_data = pad_features(imposter_test_data, max_feature_size)\n",
    "\n",
    "# Prepare training data\n",
    "X_train = np.vstack([ram_train_data, imposter_train_data])\n",
    "y_train = [1] * len(ram_train_data) + [0] * len(imposter_train_data)\n",
    "\n",
    "# Prepare test data\n",
    "X_test = np.vstack([ram_test_data, imposter_test_data])\n",
    "y_test = [1] * len(ram_test_data) + [0] * len(imposter_test_data)\n",
    "\n",
    "# Normalize features\n",
    "X_train_scaled, scaler = normalize_features(X_train)\n",
    "X_test_scaled = scaler.transform(X_test)\n",
    "\n",
    "# Train SVM\n",
    "clf = train_svm_with_grid_search(X_train_scaled, y_train)\n",
    "\n",
    "# Get decision scores\n",
    "y_scores = clf.predict_proba(X_test_scaled)[:, 1]\n",
    "\n",
    "print(\"Data With Wiener filteration:\")\n",
    "# Compute EER\n",
    "eer, eer_threshold = compute_eer(y_test, y_scores)\n",
    "print(f\"EER: {eer * 100:.2f}% at threshold: {eer_threshold}\")\n",
    "\n",
    "# Evaluate accuracy\n",
    "y_pred = (y_scores >= eer_threshold).astype(int)\n",
    "accuracy = accuracy_score(y_test, y_pred)\n",
    "print(f\"Accuracy at EER threshold: {accuracy * 100:.2f}%\")"
   ]
  }
 ],
 "metadata": {
  "kernelspec": {
   "display_name": "Python 3",
   "language": "python",
   "name": "python3"
  },
  "language_info": {
   "codemirror_mode": {
    "name": "ipython",
    "version": 3
   },
   "file_extension": ".py",
   "mimetype": "text/x-python",
   "name": "python",
   "nbconvert_exporter": "python",
   "pygments_lexer": "ipython3",
   "version": "3.11.9"
  }
 },
 "nbformat": 4,
 "nbformat_minor": 2
}
